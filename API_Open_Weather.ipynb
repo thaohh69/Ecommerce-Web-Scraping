{
  "nbformat": 4,
  "nbformat_minor": 0,
  "metadata": {
    "colab": {
      "name": "API-Open-Weather.ipynb",
      "provenance": [],
      "collapsed_sections": [],
      "authorship_tag": "ABX9TyMg/PKwatdIFEDdnC5xMf3r",
      "include_colab_link": true
    },
    "kernelspec": {
      "name": "python3",
      "display_name": "Python 3"
    }
  },
  "cells": [
    {
      "cell_type": "markdown",
      "metadata": {
        "id": "view-in-github",
        "colab_type": "text"
      },
      "source": [
        "<a href=\"https://colab.research.google.com/github/thaohh69/Ecommerce-Web-Scraping/blob/master/API_Open_Weather.ipynb\" target=\"_parent\"><img src=\"https://colab.research.google.com/assets/colab-badge.svg\" alt=\"Open In Colab\"/></a>"
      ]
    },
    {
      "cell_type": "code",
      "metadata": {
        "id": "XjZYuFQcekT-",
        "colab_type": "code",
        "colab": {
          "base_uri": "https://localhost:8080/",
          "height": 34
        },
        "outputId": "462b4ecc-faf1-420c-dfee-410c98baa378"
      },
      "source": [
        "import requests\n",
        "baseUrl = 'https://api.upcitemdb.com/prod/trial/lookup'\n",
        "parameters = {'upc':'012993441012'}\n",
        "response = requests.get(baseUrl, params=parameters)\n",
        "print(response.url)"
      ],
      "execution_count": 21,
      "outputs": [
        {
          "output_type": "stream",
          "text": [
            "https://api.upcitemdb.com/prod/trial/lookup?upc=012993441012\n"
          ],
          "name": "stdout"
        }
      ]
    },
    {
      "cell_type": "code",
      "metadata": {
        "id": "-DGt8d2WiiuA",
        "colab_type": "code",
        "colab": {
          "base_uri": "https://localhost:8080/",
          "height": 207
        },
        "outputId": "e187514e-e620-4d88-e4b6-ba661206c2ae"
      },
      "source": [
        "!pip install simplejson\n",
        "import simplejson as json"
      ],
      "execution_count": 26,
      "outputs": [
        {
          "output_type": "stream",
          "text": [
            "Collecting simplejson\n",
            "\u001b[?25l  Downloading https://files.pythonhosted.org/packages/98/87/a7b98aa9256c8843f92878966dc3d8d914c14aad97e2c5ce4798d5743e07/simplejson-3.17.0.tar.gz (83kB)\n",
            "     |████████████████████████████████| 92kB 3.8MB/s \n",
            "\u001b[?25hBuilding wheels for collected packages: simplejson\n",
            "  Building wheel for simplejson (setup.py) ... \u001b[?25l\u001b[?25hdone\n",
            "  Created wheel for simplejson: filename=simplejson-3.17.0-cp36-cp36m-linux_x86_64.whl size=114206 sha256=af68b4c89b82f5930ed67f6645941a43263b428f4879c45cfca1086040d295af\n",
            "  Stored in directory: /root/.cache/pip/wheels/86/c0/83/dcd0339abb2640544bb8e0938aab2d069cef55e5647ce6e097\n",
            "Successfully built simplejson\n",
            "Installing collected packages: simplejson\n",
            "Successfully installed simplejson-3.17.0\n"
          ],
          "name": "stdout"
        }
      ]
    },
    {
      "cell_type": "code",
      "metadata": {
        "id": "7Xx5Vo66iB_1",
        "colab_type": "code",
        "colab": {
          "base_uri": "https://localhost:8080/",
          "height": 71
        },
        "outputId": "9823ea6d-bff9-40ff-f85d-7470a59e8784"
      },
      "source": [
        "content = response.content \n",
        "info = json.loads(content)\n",
        "print(type(info))\n",
        "print(info)"
      ],
      "execution_count": 27,
      "outputs": [
        {
          "output_type": "stream",
          "text": [
            "<class 'dict'>\n",
            "{'code': 'OK', 'total': 1, 'offset': 0, 'items': [{'ean': '0012993441012', 'title': 'LaCroix Enhanced Sparkling Water Passionfruit - 12 fl oz', 'description': 'LaCroix Enhanced Sparkling Water Passionfruit - 12 fl oz Gender: unisex.', 'upc': '012993441012', 'brand': 'LaCroix', 'model': '52782585', 'color': '', 'size': '', 'dimension': '', 'weight': '', 'category': 'Food, Beverages & Tobacco > Beverages > Water > Carbonated Water', 'currency': '', 'lowest_recorded_price': 0.89, 'highest_recorded_price': 0.89, 'images': ['https://target.scene7.com/is/image/Target/GUEST_73aa9427-5fda-4793-9002-6e0b5b7a3501?wid=1000&hei=1000'], 'offers': [{'merchant': 'Target', 'domain': 'target.com', 'title': 'LaCroix Enhanced Sparkling Water Passionfruit - 12 fl oz', 'currency': '', 'list_price': '', 'price': 0.89, 'shipping': '', 'condition': 'New', 'availability': '', 'link': 'https://www.upcitemdb.com/norob/alink/?id=x2s263w2y223f474u2&tid=1&seq=1582989595&plt=93a76b49592f7da1932e1aec831e36dc', 'updated_t': 1582690007}]}]}\n"
          ],
          "name": "stdout"
        }
      ]
    },
    {
      "cell_type": "code",
      "metadata": {
        "id": "-QCVy1ZRi6TT",
        "colab_type": "code",
        "colab": {
          "base_uri": "https://localhost:8080/",
          "height": 51
        },
        "outputId": "181a926c-ff55-424f-9b2b-0693022f1810"
      },
      "source": [
        "item = info['items']\n",
        "itemInfo = item[0]\n",
        "title = itemInfo['title']\n",
        "brand = itemInfo['brand']\n",
        "print(title)\n",
        "print(brand)"
      ],
      "execution_count": 30,
      "outputs": [
        {
          "output_type": "stream",
          "text": [
            "LaCroix Enhanced Sparkling Water Passionfruit - 12 fl oz\n",
            "LaCroix\n"
          ],
          "name": "stdout"
        }
      ]
    },
    {
      "cell_type": "code",
      "metadata": {
        "id": "XTipNKB7jiyL",
        "colab_type": "code",
        "colab": {
          "base_uri": "https://localhost:8080/",
          "height": 54
        },
        "outputId": "b4aa1855-7f0d-4a99-cf2d-3caf04f15036"
      },
      "source": [
        "#Open Weather Map\n",
        "\n",
        "baseurl = 'http://api.openweathermap.org/data/2.5/forecast'\n",
        "parameter = {'APPID':'7436acc05ae6235bdf587b2ae27d8195','q':'Seattle,US'}\n",
        "response = requests.get(baseUrl, params=parameter)\n",
        "print(response.content)"
      ],
      "execution_count": 40,
      "outputs": [
        {
          "output_type": "stream",
          "text": [
            "b'{\"cod\":\"200\",\"message\":0,\"cnt\":40,\"list\":[{\"dt\":1583010000,\"main\":{\"temp\":283.12,\"feels_like\":280.66,\"temp_min\":283.12,\"temp_max\":283.22,\"pressure\":1017,\"sea_level\":1017,\"grnd_level\":1009,\"humidity\":59,\"temp_kf\":-0.1},\"weather\":[{\"id\":500,\"main\":\"Rain\",\"description\":\"light rain\",\"icon\":\"10d\"}],\"clouds\":{\"all\":100},\"wind\":{\"speed\":1.2,\"deg\":235},\"rain\":{\"3h\":0.25},\"sys\":{\"pod\":\"d\"},\"dt_txt\":\"2020-02-29 21:00:00\"},{\"dt\":1583020800,\"main\":{\"temp\":280.45,\"feels_like\":276.08,\"temp_min\":280.45,\"temp_max\":280.53,\"pressure\":1018,\"sea_level\":1018,\"grnd_level\":1010,\"humidity\":70,\"temp_kf\":-0.08},\"weather\":[{\"id\":500,\"main\":\"Rain\",\"description\":\"light rain\",\"icon\":\"10d\"}],\"clouds\":{\"all\":73},\"wind\":{\"speed\":3.9,\"deg\":33},\"rain\":{\"3h\":1.81},\"sys\":{\"pod\":\"d\"},\"dt_txt\":\"2020-03-01 00:00:00\"},{\"dt\":1583031600,\"main\":{\"temp\":277,\"feels_like\":273.47,\"temp_min\":277,\"temp_max\":277.05,\"pressure\":1020,\"sea_level\":1020,\"grnd_level\":1011,\"humidity\":77,\"temp_kf\":-0.05},\"weather\":[{\"id\":802,\"main\":\"Clouds\",\"description\":\"scattered clouds\",\"icon\":\"03n\"}],\"clouds\":{\"all\":48},\"wind\":{\"speed\":2.24,\"deg\":112},\"sys\":{\"pod\":\"n\"},\"dt_txt\":\"2020-03-01 03:00:00\"},{\"dt\":1583042400,\"main\":{\"temp\":275.1,\"feels_like\":272.53,\"temp_min\":275.1,\"temp_max\":275.13,\"pressure\":1022,\"sea_level\":1022,\"grnd_level\":1014,\"humidity\":89,\"temp_kf\":-0.03},\"weather\":[{\"id\":802,\"main\":\"Clouds\",\"description\":\"scattered clouds\",\"icon\":\"03n\"}],\"clouds\":{\"all\":25},\"wind\":{\"speed\":0.9,\"deg\":176},\"sys\":{\"pod\":\"n\"},\"dt_txt\":\"2020-03-01 06:00:00\"},{\"dt\":1583053200,\"main\":{\"temp\":273.89,\"feels_like\":271.08,\"temp_min\":273.89,\"temp_max\":273.89,\"pressure\":1023,\"sea_level\":1023,\"grnd_level\":1015,\"humidity\":93,\"temp_kf\":0},\"weather\":[{\"id\":800,\"main\":\"Clear\",\"description\":\"clear sky\",\"icon\":\"01n\"}],\"clouds\":{\"all\":0},\"wind\":{\"speed\":1.12,\"deg\":171},\"sys\":{\"pod\":\"n\"},\"dt_txt\":\"2020-03-01 09:00:00\"},{\"dt\":1583064000,\"main\":{\"temp\":272.92,\"feels_like\":270.17,\"temp_min\":272.92,\"temp_max\":272.92,\"pressure\":1025,\"sea_level\":1025,\"grnd_level\":1017,\"humidity\":94,\"temp_kf\":0},\"weather\":[{\"id\":800,\"main\":\"Clear\",\"description\":\"clear sky\",\"icon\":\"01n\"}],\"clouds\":{\"all\":0},\"wind\":{\"speed\":0.87,\"deg\":172},\"sys\":{\"pod\":\"n\"},\"dt_txt\":\"2020-03-01 12:00:00\"},{\"dt\":1583074800,\"main\":{\"temp\":272.5,\"feels_like\":269.68,\"temp_min\":272.5,\"temp_max\":272.5,\"pressure\":1026,\"sea_level\":1026,\"grnd_level\":1018,\"humidity\":95,\"temp_kf\":0},\"weather\":[{\"id\":800,\"main\":\"Clear\",\"description\":\"clear sky\",\"icon\":\"01d\"}],\"clouds\":{\"all\":0},\"wind\":{\"speed\":0.92,\"deg\":218},\"sys\":{\"pod\":\"d\"},\"dt_txt\":\"2020-03-01 15:00:00\"},{\"dt\":1583085600,\"main\":{\"temp\":278.46,\"feels_like\":276.06,\"temp_min\":278.46,\"temp_max\":278.46,\"pressure\":1027,\"sea_level\":1027,\"grnd_level\":1020,\"humidity\":76,\"temp_kf\":0},\"weather\":[{\"id\":801,\"main\":\"Clouds\",\"description\":\"few clouds\",\"icon\":\"02d\"}],\"clouds\":{\"all\":17},\"wind\":{\"speed\":0.91,\"deg\":181},\"sys\":{\"pod\":\"d\"},\"dt_txt\":\"2020-03-01 18:00:00\"},{\"dt\":1583096400,\"main\":{\"temp\":282.37,\"feels_like\":279.54,\"temp_min\":282.37,\"temp_max\":282.37,\"pressure\":1027,\"sea_level\":1027,\"grnd_level\":1020,\"humidity\":55,\"temp_kf\":0},\"weather\":[{\"id\":803,\"main\":\"Clouds\",\"description\":\"broken clouds\",\"icon\":\"04d\"}],\"clouds\":{\"all\":67},\"wind\":{\"speed\":1.34,\"deg\":109},\"sys\":{\"pod\":\"d\"},\"dt_txt\":\"2020-03-01 21:00:00\"},{\"dt\":1583107200,\"main\":{\"temp\":281.15,\"feels_like\":278.23,\"temp_min\":281.15,\"temp_max\":281.15,\"pressure\":1027,\"sea_level\":1027,\"grnd_level\":1019,\"humidity\":55,\"temp_kf\":0},\"weather\":[{\"id\":803,\"main\":\"Clouds\",\"description\":\"broken clouds\",\"icon\":\"04d\"}],\"clouds\":{\"all\":78},\"wind\":{\"speed\":1.23,\"deg\":181},\"sys\":{\"pod\":\"d\"},\"dt_txt\":\"2020-03-02 00:00:00\"},{\"dt\":1583118000,\"main\":{\"temp\":278.64,\"feels_like\":275.86,\"temp_min\":278.64,\"temp_max\":278.64,\"pressure\":1027,\"sea_level\":1027,\"grnd_level\":1018,\"humidity\":64,\"temp_kf\":0},\"weather\":[{\"id\":804,\"main\":\"Clouds\",\"description\":\"overcast clouds\",\"icon\":\"04n\"}],\"clouds\":{\"all\":96},\"wind\":{\"speed\":0.98,\"deg\":141},\"sys\":{\"pod\":\"n\"},\"dt_txt\":\"2020-03-02 03:00:00\"},{\"dt\":1583128800,\"main\":{\"temp\":275.96,\"feels_like\":272.7,\"temp_min\":275.96,\"temp_max\":275.96,\"pressure\":1027,\"sea_level\":1027,\"grnd_level\":1019,\"humidity\":87,\"temp_kf\":0},\"weather\":[{\"id\":804,\"main\":\"Clouds\",\"description\":\"overcast clouds\",\"icon\":\"04n\"}],\"clouds\":{\"all\":98},\"wind\":{\"speed\":2.01,\"deg\":214},\"sys\":{\"pod\":\"n\"},\"dt_txt\":\"2020-03-02 06:00:00\"},{\"dt\":1583139600,\"main\":{\"temp\":274.28,\"feels_like\":271.19,\"temp_min\":274.28,\"temp_max\":274.28,\"pressure\":1025,\"sea_level\":1025,\"grnd_level\":1017,\"humidity\":94,\"temp_kf\":0},\"weather\":[{\"id\":804,\"main\":\"Clouds\",\"description\":\"overcast clouds\",\"icon\":\"04n\"}],\"clouds\":{\"all\":100},\"wind\":{\"speed\":1.63,\"deg\":182},\"sys\":{\"pod\":\"n\"},\"dt_txt\":\"2020-03-02 09:00:00\"},{\"dt\":1583150400,\"main\":{\"temp\":274.97,\"feels_like\":271.44,\"temp_min\":274.97,\"temp_max\":274.97,\"pressure\":1024,\"sea_level\":1024,\"grnd_level\":1017,\"humidity\":93,\"temp_kf\":0},\"weather\":[{\"id\":804,\"main\":\"Clouds\",\"description\":\"overcast clouds\",\"icon\":\"04n\"}],\"clouds\":{\"all\":99},\"wind\":{\"speed\":2.38,\"deg\":191},\"sys\":{\"pod\":\"n\"},\"dt_txt\":\"2020-03-02 12:00:00\"},{\"dt\":1583161200,\"main\":{\"temp\":277.24,\"feels_like\":273.42,\"temp_min\":277.24,\"temp_max\":277.24,\"pressure\":1022,\"sea_level\":1022,\"grnd_level\":1015,\"humidity\":89,\"temp_kf\":0},\"weather\":[{\"id\":804,\"main\":\"Clouds\",\"description\":\"overcast clouds\",\"icon\":\"04d\"}],\"clouds\":{\"all\":100},\"wind\":{\"speed\":3.18,\"deg\":176},\"sys\":{\"pod\":\"d\"},\"dt_txt\":\"2020-03-02 15:00:00\"},{\"dt\":1583172000,\"main\":{\"temp\":278.95,\"feels_like\":275.14,\"temp_min\":278.95,\"temp_max\":278.95,\"pressure\":1021,\"sea_level\":1021,\"grnd_level\":1014,\"humidity\":87,\"temp_kf\":0},\"weather\":[{\"id\":804,\"main\":\"Clouds\",\"description\":\"overcast clouds\",\"icon\":\"04d\"}],\"clouds\":{\"all\":100},\"wind\":{\"speed\":3.51,\"deg\":185},\"sys\":{\"pod\":\"d\"},\"dt_txt\":\"2020-03-02 18:00:00\"},{\"dt\":1583182800,\"main\":{\"temp\":280.82,\"feels_like\":277.97,\"temp_min\":280.82,\"temp_max\":280.82,\"pressure\":1021,\"sea_level\":1021,\"grnd_level\":1014,\"humidity\":89,\"temp_kf\":0},\"weather\":[{\"id\":804,\"main\":\"Clouds\",\"description\":\"overcast clouds\",\"icon\":\"04d\"}],\"clouds\":{\"all\":100},\"wind\":{\"speed\":2.75,\"deg\":182},\"sys\":{\"pod\":\"d\"},\"dt_txt\":\"2020-03-02 21:00:00\"},{\"dt\":1583193600,\"main\":{\"temp\":282.8,\"feels_like\":281.15,\"temp_min\":282.8,\"temp_max\":282.8,\"pressure\":1021,\"sea_level\":1021,\"grnd_level\":1013,\"humidity\":86,\"temp_kf\":0},\"weather\":[{\"id\":804,\"main\":\"Clouds\",\"description\":\"overcast clouds\",\"icon\":\"04d\"}],\"clouds\":{\"all\":100},\"wind\":{\"speed\":1.5,\"deg\":227},\"sys\":{\"pod\":\"d\"},\"dt_txt\":\"2020-03-03 00:00:00\"},{\"dt\":1583204400,\"main\":{\"temp\":281.34,\"feels_like\":278.06,\"temp_min\":281.34,\"temp_max\":281.34,\"pressure\":1021,\"sea_level\":1021,\"grnd_level\":1013,\"humidity\":90,\"temp_kf\":0},\"weather\":[{\"id\":500,\"main\":\"Rain\",\"description\":\"light rain\",\"icon\":\"10n\"}],\"clouds\":{\"all\":100},\"wind\":{\"speed\":3.58,\"deg\":194},\"rain\":{\"3h\":0.81},\"sys\":{\"pod\":\"n\"},\"dt_txt\":\"2020-03-03 03:00:00\"},{\"dt\":1583215200,\"main\":{\"temp\":281.49,\"feels_like\":278.19,\"temp_min\":281.49,\"temp_max\":281.49,\"pressure\":1021,\"sea_level\":1021,\"grnd_level\":1013,\"humidity\":91,\"temp_kf\":0},\"weather\":[{\"id\":500,\"main\":\"Rain\",\"description\":\"light rain\",\"icon\":\"10n\"}],\"clouds\":{\"all\":100},\"wind\":{\"speed\":3.71,\"deg\":206},\"rain\":{\"3h\":0.25},\"sys\":{\"pod\":\"n\"},\"dt_txt\":\"2020-03-03 06:00:00\"},{\"dt\":1583226000,\"main\":{\"temp\":281.88,\"feels_like\":277.67,\"temp_min\":281.88,\"temp_max\":281.88,\"pressure\":1020,\"sea_level\":1020,\"grnd_level\":1012,\"humidity\":88,\"temp_kf\":0},\"weather\":[{\"id\":804,\"main\":\"Clouds\",\"description\":\"overcast clouds\",\"icon\":\"04n\"}],\"clouds\":{\"all\":100},\"wind\":{\"speed\":4.97,\"deg\":220},\"sys\":{\"pod\":\"n\"},\"dt_txt\":\"2020-03-03 09:00:00\"},{\"dt\":1583236800,\"main\":{\"temp\":282.14,\"feels_like\":278.63,\"temp_min\":282.14,\"temp_max\":282.14,\"pressure\":1020,\"sea_level\":1020,\"grnd_level\":1012,\"humidity\":89,\"temp_kf\":0},\"weather\":[{\"id\":804,\"main\":\"Clouds\",\"description\":\"overcast clouds\",\"icon\":\"04n\"}],\"clouds\":{\"all\":100},\"wind\":{\"speed\":4.11,\"deg\":203},\"sys\":{\"pod\":\"n\"},\"dt_txt\":\"2020-03-03 12:00:00\"},{\"dt\":1583247600,\"main\":{\"temp\":281.17,\"feels_like\":278.56,\"temp_min\":281.17,\"temp_max\":281.17,\"pressure\":1021,\"sea_level\":1021,\"grnd_level\":1014,\"humidity\":94,\"temp_kf\":0},\"weather\":[{\"id\":804,\"main\":\"Clouds\",\"description\":\"overcast clouds\",\"icon\":\"04d\"}],\"clouds\":{\"all\":100},\"wind\":{\"speed\":2.77,\"deg\":228},\"sys\":{\"pod\":\"d\"},\"dt_txt\":\"2020-03-03 15:00:00\"},{\"dt\":1583258400,\"main\":{\"temp\":283.89,\"feels_like\":280.45,\"temp_min\":283.89,\"temp_max\":283.89,\"pressure\":1022,\"sea_level\":1022,\"grnd_level\":1014,\"humidity\":79,\"temp_kf\":0},\"weather\":[{\"id\":804,\"main\":\"Clouds\",\"description\":\"overcast clouds\",\"icon\":\"04d\"}],\"clouds\":{\"all\":96},\"wind\":{\"speed\":4,\"deg\":216},\"sys\":{\"pod\":\"d\"},\"dt_txt\":\"2020-03-03 18:00:00\"},{\"dt\":1583269200,\"main\":{\"temp\":285.21,\"feels_like\":279.61,\"temp_min\":285.21,\"temp_max\":285.21,\"pressure\":1022,\"sea_level\":1022,\"grnd_level\":1014,\"humidity\":64,\"temp_kf\":0},\"weather\":[{\"id\":500,\"main\":\"Rain\",\"description\":\"light rain\",\"icon\":\"10d\"}],\"clouds\":{\"all\":100},\"wind\":{\"speed\":6.53,\"deg\":213},\"rain\":{\"3h\":0.13},\"sys\":{\"pod\":\"d\"},\"dt_txt\":\"2020-03-03 21:00:00\"},{\"dt\":1583280000,\"main\":{\"temp\":283.22,\"feels_like\":276.99,\"temp_min\":283.22,\"temp_max\":283.22,\"pressure\":1021,\"sea_level\":1021,\"grnd_level\":1013,\"humidity\":68,\"temp_kf\":0},\"weather\":[{\"id\":804,\"main\":\"Clouds\",\"description\":\"overcast clouds\",\"icon\":\"04d\"}],\"clouds\":{\"all\":100},\"wind\":{\"speed\":7.14,\"deg\":214},\"sys\":{\"pod\":\"d\"},\"dt_txt\":\"2020-03-04 00:00:00\"},{\"dt\":1583290800,\"main\":{\"temp\":281.65,\"feels_like\":276.04,\"temp_min\":281.65,\"temp_max\":281.65,\"pressure\":1020,\"sea_level\":1020,\"grnd_level\":1012,\"humidity\":79,\"temp_kf\":0},\"weather\":[{\"id\":804,\"main\":\"Clouds\",\"description\":\"overcast clouds\",\"icon\":\"04n\"}],\"clouds\":{\"all\":95},\"wind\":{\"speed\":6.43,\"deg\":201},\"sys\":{\"pod\":\"n\"},\"dt_txt\":\"2020-03-04 03:00:00\"},{\"dt\":1583301600,\"main\":{\"temp\":281.9,\"feels_like\":276.5,\"temp_min\":281.9,\"temp_max\":281.9,\"pressure\":1018,\"sea_level\":1018,\"grnd_level\":1010,\"humidity\":88,\"temp_kf\":0},\"weather\":[{\"id\":500,\"main\":\"Rain\",\"description\":\"light rain\",\"icon\":\"10n\"}],\"clouds\":{\"all\":98},\"wind\":{\"speed\":6.68,\"deg\":202},\"rain\":{\"3h\":0.31},\"sys\":{\"pod\":\"n\"},\"dt_txt\":\"2020-03-04 06:00:00\"},{\"dt\":1583312400,\"main\":{\"temp\":282.19,\"feels_like\":276.77,\"temp_min\":282.19,\"temp_max\":282.19,\"pressure\":1017,\"sea_level\":1017,\"grnd_level\":1009,\"humidity\":90,\"temp_kf\":0},\"weather\":[{\"id\":500,\"main\":\"Rain\",\"description\":\"light rain\",\"icon\":\"10n\"}],\"clouds\":{\"all\":100},\"wind\":{\"speed\":6.9,\"deg\":218},\"rain\":{\"3h\":2.06},\"sys\":{\"pod\":\"n\"},\"dt_txt\":\"2020-03-04 09:00:00\"},{\"dt\":1583323200,\"main\":{\"temp\":280.18,\"feels_like\":275.06,\"temp_min\":280.18,\"temp_max\":280.18,\"pressure\":1018,\"sea_level\":1018,\"grnd_level\":1009,\"humidity\":86,\"temp_kf\":0},\"weather\":[{\"id\":500,\"main\":\"Rain\",\"description\":\"light rain\",\"icon\":\"10n\"}],\"clouds\":{\"all\":83},\"wind\":{\"speed\":5.67,\"deg\":211},\"rain\":{\"3h\":0.31},\"sys\":{\"pod\":\"n\"},\"dt_txt\":\"2020-03-04 12:00:00\"},{\"dt\":1583334000,\"main\":{\"temp\":278.05,\"feels_like\":275.16,\"temp_min\":278.05,\"temp_max\":278.05,\"pressure\":1019,\"sea_level\":1019,\"grnd_level\":1011,\"humidity\":91,\"temp_kf\":0},\"weather\":[{\"id\":804,\"main\":\"Clouds\",\"description\":\"overcast clouds\",\"icon\":\"04d\"}],\"clouds\":{\"all\":96},\"wind\":{\"speed\":2.12,\"deg\":198},\"sys\":{\"pod\":\"d\"},\"dt_txt\":\"2020-03-04 15:00:00\"},{\"dt\":1583344800,\"main\":{\"temp\":280.55,\"feels_like\":276.25,\"temp_min\":280.55,\"temp_max\":280.55,\"pressure\":1021,\"sea_level\":1021,\"grnd_level\":1013,\"humidity\":77,\"temp_kf\":0},\"weather\":[{\"id\":804,\"main\":\"Clouds\",\"description\":\"overcast clouds\",\"icon\":\"04d\"}],\"clouds\":{\"all\":98},\"wind\":{\"speed\":4.16,\"deg\":216},\"sys\":{\"pod\":\"d\"},\"dt_txt\":\"2020-03-04 18:00:00\"},{\"dt\":1583355600,\"main\":{\"temp\":283.5,\"feels_like\":277.52,\"temp_min\":283.5,\"temp_max\":283.5,\"pressure\":1022,\"sea_level\":1022,\"grnd_level\":1014,\"humidity\":50,\"temp_kf\":0},\"weather\":[{\"id\":804,\"main\":\"Clouds\",\"description\":\"overcast clouds\",\"icon\":\"04d\"}],\"clouds\":{\"all\":100},\"wind\":{\"speed\":5.79,\"deg\":217},\"sys\":{\"pod\":\"d\"},\"dt_txt\":\"2020-03-04 21:00:00\"},{\"dt\":1583366400,\"main\":{\"temp\":282.71,\"feels_like\":276.84,\"temp_min\":282.71,\"temp_max\":282.71,\"pressure\":1021,\"sea_level\":1021,\"grnd_level\":1013,\"humidity\":53,\"temp_kf\":0},\"weather\":[{\"id\":804,\"main\":\"Clouds\",\"description\":\"overcast clouds\",\"icon\":\"04d\"}],\"clouds\":{\"all\":92},\"wind\":{\"speed\":5.64,\"deg\":219},\"sys\":{\"pod\":\"d\"},\"dt_txt\":\"2020-03-05 00:00:00\"},{\"dt\":1583377200,\"main\":{\"temp\":278.24,\"feels_like\":275.31,\"temp_min\":278.24,\"temp_max\":278.24,\"pressure\":1021,\"sea_level\":1021,\"grnd_level\":1013,\"humidity\":74,\"temp_kf\":0},\"weather\":[{\"id\":803,\"main\":\"Clouds\",\"description\":\"broken clouds\",\"icon\":\"04n\"}],\"clouds\":{\"all\":58},\"wind\":{\"speed\":1.53,\"deg\":229},\"sys\":{\"pod\":\"n\"},\"dt_txt\":\"2020-03-05 03:00:00\"},{\"dt\":1583388000,\"main\":{\"temp\":277.01,\"feels_like\":273.9,\"temp_min\":277.01,\"temp_max\":277.01,\"pressure\":1022,\"sea_level\":1022,\"grnd_level\":1014,\"humidity\":82,\"temp_kf\":0},\"weather\":[{\"id\":803,\"main\":\"Clouds\",\"description\":\"broken clouds\",\"icon\":\"04n\"}],\"clouds\":{\"all\":78},\"wind\":{\"speed\":1.84,\"deg\":219},\"sys\":{\"pod\":\"n\"},\"dt_txt\":\"2020-03-05 06:00:00\"},{\"dt\":1583398800,\"main\":{\"temp\":276.36,\"feels_like\":273.38,\"temp_min\":276.36,\"temp_max\":276.36,\"pressure\":1021,\"sea_level\":1021,\"grnd_level\":1012,\"humidity\":86,\"temp_kf\":0},\"weather\":[{\"id\":804,\"main\":\"Clouds\",\"description\":\"overcast clouds\",\"icon\":\"04n\"}],\"clouds\":{\"all\":100},\"wind\":{\"speed\":1.66,\"deg\":186},\"sys\":{\"pod\":\"n\"},\"dt_txt\":\"2020-03-05 09:00:00\"},{\"dt\":1583409600,\"main\":{\"temp\":276.66,\"feels_like\":273.9,\"temp_min\":276.66,\"temp_max\":276.66,\"pressure\":1019,\"sea_level\":1019,\"grnd_level\":1011,\"humidity\":84,\"temp_kf\":0},\"weather\":[{\"id\":804,\"main\":\"Clouds\",\"description\":\"overcast clouds\",\"icon\":\"04n\"}],\"clouds\":{\"all\":100},\"wind\":{\"speed\":1.34,\"deg\":163},\"sys\":{\"pod\":\"n\"},\"dt_txt\":\"2020-03-05 12:00:00\"},{\"dt\":1583420400,\"main\":{\"temp\":277.08,\"feels_like\":274.25,\"temp_min\":277.08,\"temp_max\":277.08,\"pressure\":1017,\"sea_level\":1017,\"grnd_level\":1009,\"humidity\":81,\"temp_kf\":0},\"weather\":[{\"id\":804,\"main\":\"Clouds\",\"description\":\"overcast clouds\",\"icon\":\"04d\"}],\"clouds\":{\"all\":100},\"wind\":{\"speed\":1.41,\"deg\":194},\"sys\":{\"pod\":\"d\"},\"dt_txt\":\"2020-03-05 15:00:00\"},{\"dt\":1583431200,\"main\":{\"temp\":277.31,\"feels_like\":274.47,\"temp_min\":277.31,\"temp_max\":277.31,\"pressure\":1014,\"sea_level\":1014,\"grnd_level\":1006,\"humidity\":90,\"temp_kf\":0},\"weather\":[{\"id\":500,\"main\":\"Rain\",\"description\":\"light rain\",\"icon\":\"10d\"}],\"clouds\":{\"all\":100},\"wind\":{\"speed\":1.83,\"deg\":148},\"rain\":{\"3h\":1.75},\"sys\":{\"pod\":\"d\"},\"dt_txt\":\"2020-03-05 18:00:00\"}],\"city\":{\"id\":5809844,\"name\":\"Seattle\",\"coord\":{\"lat\":47.6062,\"lon\":-122.3321},\"country\":\"US\",\"population\":608660,\"timezone\":-28800,\"sunrise\":1582987847,\"sunset\":1583027582}}'\n"
          ],
          "name": "stdout"
        }
      ]
    }
  ]
}
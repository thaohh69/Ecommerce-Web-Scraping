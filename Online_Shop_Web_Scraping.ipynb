{
  "nbformat": 4,
  "nbformat_minor": 0,
  "metadata": {
    "colab": {
      "name": "Online-Shop-Web-Scraping.ipynb",
      "provenance": [],
      "collapsed_sections": []
    },
    "kernelspec": {
      "name": "python3",
      "display_name": "Python 3"
    }
  },
  "cells": [
    {
      "cell_type": "code",
      "metadata": {
        "id": "KGCDXVWm63oz",
        "colab_type": "code",
        "colab": {}
      },
      "source": [
        "from bs4 import BeautifulSoup\n",
        "import requests"
      ],
      "execution_count": 0,
      "outputs": []
    },
    {
      "cell_type": "code",
      "metadata": {
        "id": "M9YLIp9lFY6B",
        "colab_type": "code",
        "colab": {}
      },
      "source": [
        "url = 'https://scrapingclub.com/exercise/list_basic/?page=2'\n",
        "response = requests.get(url)\n",
        "soup = BeautifulSoup(response.text, 'lxml')"
      ],
      "execution_count": 0,
      "outputs": []
    },
    {
      "cell_type": "code",
      "metadata": {
        "id": "bS3UK94DF0jm",
        "colab_type": "code",
        "colab": {
          "base_uri": "https://localhost:8080/",
          "height": 170
        },
        "outputId": "22216cd2-3461-47b3-c36f-d7eb9c4111be"
      },
      "source": [
        "#Scrape Price and Product information\n",
        "items = soup.find_all('div', class_='col-lg-4 col-md-6 mb-4')\n",
        "count = 1\n",
        "for i in items:\n",
        "  itemName = i.find('h4', class_='card-title').text.strip('\\n')\n",
        "  itemPrice = i.find('h5').text\n",
        "  print('%s) Price: %s, Item Name: %s' %(count,itemPrice,itemName))\n",
        "  count = count + 1"
      ],
      "execution_count": 13,
      "outputs": [
        {
          "output_type": "stream",
          "text": [
            "1) Price: $34.99, Item Name: Fitted Dress\n",
            "2) Price: $69.99, Item Name: V-neck Jumpsuit\n",
            "3) Price: $54.99, Item Name: Chiffon Dress\n",
            "4) Price: $39.99, Item Name: Skinny High Waist Jeans\n",
            "5) Price: $19.99, Item Name: Super Skinny High Jeans\n",
            "6) Price: $19.99, Item Name: Oversized Denim Jacket\n",
            "7) Price: $24.99, Item Name: Short Sweatshirt\n",
            "8) Price: $12.99, Item Name: Long-sleeved Jersey Top\n",
            "9) Price: $39.99, Item Name: Skinny High Waist Jeans\n"
          ],
          "name": "stdout"
        }
      ]
    },
    {
      "cell_type": "code",
      "metadata": {
        "id": "9cB-IER4IE3z",
        "colab_type": "code",
        "colab": {
          "base_uri": "https://localhost:8080/",
          "height": 34
        },
        "outputId": "8aa130e1-99f8-4296-8608-7dd0f0675f41"
      },
      "source": [
        "pages = soup.find('ul', class_='pagination')\n",
        "urls = []\n",
        "links = pages.find_all('a', class_='page-link')\n",
        "for link in links:\n",
        "  pageNum = int(link.text) if link.text.isdigit() else None\n",
        "  if pageNum != None:\n",
        "    x = link.get('href')\n",
        "    urls.append(x)\n",
        "print(urls)\n"
      ],
      "execution_count": 17,
      "outputs": [
        {
          "output_type": "stream",
          "text": [
            "['?page=1', '?page=3', '?page=4', '?page=5', '?page=6', '?page=7']\n"
          ],
          "name": "stdout"
        }
      ]
    },
    {
      "cell_type": "code",
      "metadata": {
        "id": "U0pmtFZkJcWo",
        "colab_type": "code",
        "colab": {
          "base_uri": "https://localhost:8080/",
          "height": 935
        },
        "outputId": "745447ba-f982-4ee9-f854-49ed8685b844"
      },
      "source": [
        " count = 1\n",
        "for i in urls:\n",
        "  newUrl = url + i\n",
        "  response = requests.get(newUrl)\n",
        "  soup = BeautifulSoup(response.text, 'lxml')\n",
        "  items = soup.find_all('div', class_='col-lg-4 col-md-6 mb-4')\n",
        " \n",
        "  for i in items:\n",
        "    itemName = i.find('h4', class_='card-title').text.strip('\\n')\n",
        "    itemPrice = i.find('h5').text\n",
        "    print('%s) Price: %s, Item Name: %s' %(count,itemPrice,itemName))\n",
        "    count = count + 1"
      ],
      "execution_count": 19,
      "outputs": [
        {
          "output_type": "stream",
          "text": [
            "1) Price: $24.99, Item Name: Short Dress\n",
            "2) Price: $29.99, Item Name: Patterned Slacks\n",
            "3) Price: $49.99, Item Name: Short Chiffon Dress\n",
            "4) Price: $59.99, Item Name: Off-the-shoulder Dress\n",
            "5) Price: $24.99, Item Name: V-neck Top\n",
            "6) Price: $49.99, Item Name: Short Chiffon Dress\n",
            "7) Price: $24.99, Item Name: V-neck Top\n",
            "8) Price: $24.99, Item Name: V-neck Top\n",
            "9) Price: $59.99, Item Name: Short Lace Dress\n",
            "10) Price: $24.99, Item Name: Short Dress\n",
            "11) Price: $29.99, Item Name: Patterned Slacks\n",
            "12) Price: $49.99, Item Name: Short Chiffon Dress\n",
            "13) Price: $59.99, Item Name: Off-the-shoulder Dress\n",
            "14) Price: $24.99, Item Name: V-neck Top\n",
            "15) Price: $49.99, Item Name: Short Chiffon Dress\n",
            "16) Price: $24.99, Item Name: V-neck Top\n",
            "17) Price: $24.99, Item Name: V-neck Top\n",
            "18) Price: $59.99, Item Name: Short Lace Dress\n",
            "19) Price: $24.99, Item Name: Short Dress\n",
            "20) Price: $29.99, Item Name: Patterned Slacks\n",
            "21) Price: $49.99, Item Name: Short Chiffon Dress\n",
            "22) Price: $59.99, Item Name: Off-the-shoulder Dress\n",
            "23) Price: $24.99, Item Name: V-neck Top\n",
            "24) Price: $49.99, Item Name: Short Chiffon Dress\n",
            "25) Price: $24.99, Item Name: V-neck Top\n",
            "26) Price: $24.99, Item Name: V-neck Top\n",
            "27) Price: $59.99, Item Name: Short Lace Dress\n",
            "28) Price: $24.99, Item Name: Short Dress\n",
            "29) Price: $29.99, Item Name: Patterned Slacks\n",
            "30) Price: $49.99, Item Name: Short Chiffon Dress\n",
            "31) Price: $59.99, Item Name: Off-the-shoulder Dress\n",
            "32) Price: $24.99, Item Name: V-neck Top\n",
            "33) Price: $49.99, Item Name: Short Chiffon Dress\n",
            "34) Price: $24.99, Item Name: V-neck Top\n",
            "35) Price: $24.99, Item Name: V-neck Top\n",
            "36) Price: $59.99, Item Name: Short Lace Dress\n",
            "37) Price: $24.99, Item Name: Short Dress\n",
            "38) Price: $29.99, Item Name: Patterned Slacks\n",
            "39) Price: $49.99, Item Name: Short Chiffon Dress\n",
            "40) Price: $59.99, Item Name: Off-the-shoulder Dress\n",
            "41) Price: $24.99, Item Name: V-neck Top\n",
            "42) Price: $49.99, Item Name: Short Chiffon Dress\n",
            "43) Price: $24.99, Item Name: V-neck Top\n",
            "44) Price: $24.99, Item Name: V-neck Top\n",
            "45) Price: $59.99, Item Name: Short Lace Dress\n",
            "46) Price: $24.99, Item Name: Short Dress\n",
            "47) Price: $29.99, Item Name: Patterned Slacks\n",
            "48) Price: $49.99, Item Name: Short Chiffon Dress\n",
            "49) Price: $59.99, Item Name: Off-the-shoulder Dress\n",
            "50) Price: $24.99, Item Name: V-neck Top\n",
            "51) Price: $49.99, Item Name: Short Chiffon Dress\n",
            "52) Price: $24.99, Item Name: V-neck Top\n",
            "53) Price: $24.99, Item Name: V-neck Top\n",
            "54) Price: $59.99, Item Name: Short Lace Dress\n"
          ],
          "name": "stdout"
        }
      ]
    }
  ]
}